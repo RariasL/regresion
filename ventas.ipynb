{
 "cells": [
  {
   "cell_type": "code",
   "id": "initial_id",
   "metadata": {
    "collapsed": true,
    "ExecuteTime": {
     "end_time": "2024-12-04T05:47:41.592941Z",
     "start_time": "2024-12-04T05:47:41.588835Z"
    }
   },
   "source": [
    "import pandas as pd\n",
    "##modelo de machine learning\n"
   ],
   "outputs": [],
   "execution_count": 124
  },
  {
   "metadata": {
    "ExecuteTime": {
     "end_time": "2024-12-04T05:47:42.108067Z",
     "start_time": "2024-12-04T05:47:42.101661Z"
    }
   },
   "cell_type": "code",
   "source": "datos = pd.read_csv(\"ventas.csv\")",
   "id": "242742761b05859b",
   "outputs": [],
   "execution_count": 125
  },
  {
   "metadata": {
    "ExecuteTime": {
     "end_time": "2024-12-04T05:47:42.549522Z",
     "start_time": "2024-12-04T05:47:42.539367Z"
    }
   },
   "cell_type": "code",
   "source": "datos",
   "id": "362ae6d0c89b2814",
   "outputs": [
    {
     "data": {
      "text/plain": [
       "          Fecha  DíaDeLaSemana  Promociones  Festivo  Ventas\n",
       "0    2022-01-01              6            0        0    4033\n",
       "1    2022-01-02              7            0        1    4012\n",
       "2    2022-01-03              1            0        0    1608\n",
       "3    2022-01-04              2            1        0    2046\n",
       "4    2022-01-05              3            0        0    2484\n",
       "..          ...            ...          ...      ...     ...\n",
       "360  2022-12-27              2            1        0    2189\n",
       "361  2022-12-28              3            0        0    2548\n",
       "362  2022-12-29              4            0        0    3018\n",
       "363  2022-12-30              5            0        0    3591\n",
       "364  2022-12-31              6            1        0    4351\n",
       "\n",
       "[365 rows x 5 columns]"
      ],
      "text/html": [
       "<div>\n",
       "<style scoped>\n",
       "    .dataframe tbody tr th:only-of-type {\n",
       "        vertical-align: middle;\n",
       "    }\n",
       "\n",
       "    .dataframe tbody tr th {\n",
       "        vertical-align: top;\n",
       "    }\n",
       "\n",
       "    .dataframe thead th {\n",
       "        text-align: right;\n",
       "    }\n",
       "</style>\n",
       "<table border=\"1\" class=\"dataframe\">\n",
       "  <thead>\n",
       "    <tr style=\"text-align: right;\">\n",
       "      <th></th>\n",
       "      <th>Fecha</th>\n",
       "      <th>DíaDeLaSemana</th>\n",
       "      <th>Promociones</th>\n",
       "      <th>Festivo</th>\n",
       "      <th>Ventas</th>\n",
       "    </tr>\n",
       "  </thead>\n",
       "  <tbody>\n",
       "    <tr>\n",
       "      <th>0</th>\n",
       "      <td>2022-01-01</td>\n",
       "      <td>6</td>\n",
       "      <td>0</td>\n",
       "      <td>0</td>\n",
       "      <td>4033</td>\n",
       "    </tr>\n",
       "    <tr>\n",
       "      <th>1</th>\n",
       "      <td>2022-01-02</td>\n",
       "      <td>7</td>\n",
       "      <td>0</td>\n",
       "      <td>1</td>\n",
       "      <td>4012</td>\n",
       "    </tr>\n",
       "    <tr>\n",
       "      <th>2</th>\n",
       "      <td>2022-01-03</td>\n",
       "      <td>1</td>\n",
       "      <td>0</td>\n",
       "      <td>0</td>\n",
       "      <td>1608</td>\n",
       "    </tr>\n",
       "    <tr>\n",
       "      <th>3</th>\n",
       "      <td>2022-01-04</td>\n",
       "      <td>2</td>\n",
       "      <td>1</td>\n",
       "      <td>0</td>\n",
       "      <td>2046</td>\n",
       "    </tr>\n",
       "    <tr>\n",
       "      <th>4</th>\n",
       "      <td>2022-01-05</td>\n",
       "      <td>3</td>\n",
       "      <td>0</td>\n",
       "      <td>0</td>\n",
       "      <td>2484</td>\n",
       "    </tr>\n",
       "    <tr>\n",
       "      <th>...</th>\n",
       "      <td>...</td>\n",
       "      <td>...</td>\n",
       "      <td>...</td>\n",
       "      <td>...</td>\n",
       "      <td>...</td>\n",
       "    </tr>\n",
       "    <tr>\n",
       "      <th>360</th>\n",
       "      <td>2022-12-27</td>\n",
       "      <td>2</td>\n",
       "      <td>1</td>\n",
       "      <td>0</td>\n",
       "      <td>2189</td>\n",
       "    </tr>\n",
       "    <tr>\n",
       "      <th>361</th>\n",
       "      <td>2022-12-28</td>\n",
       "      <td>3</td>\n",
       "      <td>0</td>\n",
       "      <td>0</td>\n",
       "      <td>2548</td>\n",
       "    </tr>\n",
       "    <tr>\n",
       "      <th>362</th>\n",
       "      <td>2022-12-29</td>\n",
       "      <td>4</td>\n",
       "      <td>0</td>\n",
       "      <td>0</td>\n",
       "      <td>3018</td>\n",
       "    </tr>\n",
       "    <tr>\n",
       "      <th>363</th>\n",
       "      <td>2022-12-30</td>\n",
       "      <td>5</td>\n",
       "      <td>0</td>\n",
       "      <td>0</td>\n",
       "      <td>3591</td>\n",
       "    </tr>\n",
       "    <tr>\n",
       "      <th>364</th>\n",
       "      <td>2022-12-31</td>\n",
       "      <td>6</td>\n",
       "      <td>1</td>\n",
       "      <td>0</td>\n",
       "      <td>4351</td>\n",
       "    </tr>\n",
       "  </tbody>\n",
       "</table>\n",
       "<p>365 rows × 5 columns</p>\n",
       "</div>"
      ]
     },
     "execution_count": 126,
     "metadata": {},
     "output_type": "execute_result"
    }
   ],
   "execution_count": 126
  },
  {
   "metadata": {
    "ExecuteTime": {
     "end_time": "2024-12-04T05:47:43.076179Z",
     "start_time": "2024-12-04T05:47:43.070276Z"
    }
   },
   "cell_type": "code",
   "source": "datos.isnull().sum()",
   "id": "3f0cc89796250c93",
   "outputs": [
    {
     "data": {
      "text/plain": [
       "Fecha            0\n",
       "DíaDeLaSemana    0\n",
       "Promociones      0\n",
       "Festivo          0\n",
       "Ventas           0\n",
       "dtype: int64"
      ]
     },
     "execution_count": 127,
     "metadata": {},
     "output_type": "execute_result"
    }
   ],
   "execution_count": 127
  },
  {
   "metadata": {
    "ExecuteTime": {
     "end_time": "2024-12-04T05:47:43.533964Z",
     "start_time": "2024-12-04T05:47:43.523823Z"
    }
   },
   "cell_type": "code",
   "source": "datos[\"Fecha\"]=pd.to_datetime(datos[\"Fecha\"])",
   "id": "a47403ddd012478b",
   "outputs": [],
   "execution_count": 128
  },
  {
   "metadata": {
    "ExecuteTime": {
     "end_time": "2024-12-04T05:47:43.999504Z",
     "start_time": "2024-12-04T05:47:43.985737Z"
    }
   },
   "cell_type": "code",
   "source": "datos",
   "id": "33dc4527c2d24bba",
   "outputs": [
    {
     "data": {
      "text/plain": [
       "         Fecha  DíaDeLaSemana  Promociones  Festivo  Ventas\n",
       "0   2022-01-01              6            0        0    4033\n",
       "1   2022-01-02              7            0        1    4012\n",
       "2   2022-01-03              1            0        0    1608\n",
       "3   2022-01-04              2            1        0    2046\n",
       "4   2022-01-05              3            0        0    2484\n",
       "..         ...            ...          ...      ...     ...\n",
       "360 2022-12-27              2            1        0    2189\n",
       "361 2022-12-28              3            0        0    2548\n",
       "362 2022-12-29              4            0        0    3018\n",
       "363 2022-12-30              5            0        0    3591\n",
       "364 2022-12-31              6            1        0    4351\n",
       "\n",
       "[365 rows x 5 columns]"
      ],
      "text/html": [
       "<div>\n",
       "<style scoped>\n",
       "    .dataframe tbody tr th:only-of-type {\n",
       "        vertical-align: middle;\n",
       "    }\n",
       "\n",
       "    .dataframe tbody tr th {\n",
       "        vertical-align: top;\n",
       "    }\n",
       "\n",
       "    .dataframe thead th {\n",
       "        text-align: right;\n",
       "    }\n",
       "</style>\n",
       "<table border=\"1\" class=\"dataframe\">\n",
       "  <thead>\n",
       "    <tr style=\"text-align: right;\">\n",
       "      <th></th>\n",
       "      <th>Fecha</th>\n",
       "      <th>DíaDeLaSemana</th>\n",
       "      <th>Promociones</th>\n",
       "      <th>Festivo</th>\n",
       "      <th>Ventas</th>\n",
       "    </tr>\n",
       "  </thead>\n",
       "  <tbody>\n",
       "    <tr>\n",
       "      <th>0</th>\n",
       "      <td>2022-01-01</td>\n",
       "      <td>6</td>\n",
       "      <td>0</td>\n",
       "      <td>0</td>\n",
       "      <td>4033</td>\n",
       "    </tr>\n",
       "    <tr>\n",
       "      <th>1</th>\n",
       "      <td>2022-01-02</td>\n",
       "      <td>7</td>\n",
       "      <td>0</td>\n",
       "      <td>1</td>\n",
       "      <td>4012</td>\n",
       "    </tr>\n",
       "    <tr>\n",
       "      <th>2</th>\n",
       "      <td>2022-01-03</td>\n",
       "      <td>1</td>\n",
       "      <td>0</td>\n",
       "      <td>0</td>\n",
       "      <td>1608</td>\n",
       "    </tr>\n",
       "    <tr>\n",
       "      <th>3</th>\n",
       "      <td>2022-01-04</td>\n",
       "      <td>2</td>\n",
       "      <td>1</td>\n",
       "      <td>0</td>\n",
       "      <td>2046</td>\n",
       "    </tr>\n",
       "    <tr>\n",
       "      <th>4</th>\n",
       "      <td>2022-01-05</td>\n",
       "      <td>3</td>\n",
       "      <td>0</td>\n",
       "      <td>0</td>\n",
       "      <td>2484</td>\n",
       "    </tr>\n",
       "    <tr>\n",
       "      <th>...</th>\n",
       "      <td>...</td>\n",
       "      <td>...</td>\n",
       "      <td>...</td>\n",
       "      <td>...</td>\n",
       "      <td>...</td>\n",
       "    </tr>\n",
       "    <tr>\n",
       "      <th>360</th>\n",
       "      <td>2022-12-27</td>\n",
       "      <td>2</td>\n",
       "      <td>1</td>\n",
       "      <td>0</td>\n",
       "      <td>2189</td>\n",
       "    </tr>\n",
       "    <tr>\n",
       "      <th>361</th>\n",
       "      <td>2022-12-28</td>\n",
       "      <td>3</td>\n",
       "      <td>0</td>\n",
       "      <td>0</td>\n",
       "      <td>2548</td>\n",
       "    </tr>\n",
       "    <tr>\n",
       "      <th>362</th>\n",
       "      <td>2022-12-29</td>\n",
       "      <td>4</td>\n",
       "      <td>0</td>\n",
       "      <td>0</td>\n",
       "      <td>3018</td>\n",
       "    </tr>\n",
       "    <tr>\n",
       "      <th>363</th>\n",
       "      <td>2022-12-30</td>\n",
       "      <td>5</td>\n",
       "      <td>0</td>\n",
       "      <td>0</td>\n",
       "      <td>3591</td>\n",
       "    </tr>\n",
       "    <tr>\n",
       "      <th>364</th>\n",
       "      <td>2022-12-31</td>\n",
       "      <td>6</td>\n",
       "      <td>1</td>\n",
       "      <td>0</td>\n",
       "      <td>4351</td>\n",
       "    </tr>\n",
       "  </tbody>\n",
       "</table>\n",
       "<p>365 rows × 5 columns</p>\n",
       "</div>"
      ]
     },
     "execution_count": 129,
     "metadata": {},
     "output_type": "execute_result"
    }
   ],
   "execution_count": 129
  },
  {
   "metadata": {
    "ExecuteTime": {
     "end_time": "2024-12-04T05:47:44.409827Z",
     "start_time": "2024-12-04T05:47:44.388493Z"
    }
   },
   "cell_type": "code",
   "source": "datos.describe()",
   "id": "4d7f6a236be7687e",
   "outputs": [
    {
     "data": {
      "text/plain": [
       "                               Fecha  DíaDeLaSemana  Promociones     Festivo  \\\n",
       "count                            365     365.000000   365.000000  365.000000   \n",
       "mean   2022-07-01 23:59:59.999999744       4.005479     0.200000    0.142466   \n",
       "min              2022-01-01 00:00:00       1.000000     0.000000    0.000000   \n",
       "25%              2022-04-02 00:00:00       2.000000     0.000000    0.000000   \n",
       "50%              2022-07-02 00:00:00       4.000000     0.000000    0.000000   \n",
       "75%              2022-10-01 00:00:00       6.000000     0.000000    0.000000   \n",
       "max              2022-12-31 00:00:00       7.000000     1.000000    1.000000   \n",
       "std                              NaN       2.002738     0.400549    0.350007   \n",
       "\n",
       "            Ventas  \n",
       "count   365.000000  \n",
       "mean   2997.219178  \n",
       "min    1305.000000  \n",
       "25%    2195.000000  \n",
       "50%    3074.000000  \n",
       "75%    3979.000000  \n",
       "max    4404.000000  \n",
       "std     942.096284  "
      ],
      "text/html": [
       "<div>\n",
       "<style scoped>\n",
       "    .dataframe tbody tr th:only-of-type {\n",
       "        vertical-align: middle;\n",
       "    }\n",
       "\n",
       "    .dataframe tbody tr th {\n",
       "        vertical-align: top;\n",
       "    }\n",
       "\n",
       "    .dataframe thead th {\n",
       "        text-align: right;\n",
       "    }\n",
       "</style>\n",
       "<table border=\"1\" class=\"dataframe\">\n",
       "  <thead>\n",
       "    <tr style=\"text-align: right;\">\n",
       "      <th></th>\n",
       "      <th>Fecha</th>\n",
       "      <th>DíaDeLaSemana</th>\n",
       "      <th>Promociones</th>\n",
       "      <th>Festivo</th>\n",
       "      <th>Ventas</th>\n",
       "    </tr>\n",
       "  </thead>\n",
       "  <tbody>\n",
       "    <tr>\n",
       "      <th>count</th>\n",
       "      <td>365</td>\n",
       "      <td>365.000000</td>\n",
       "      <td>365.000000</td>\n",
       "      <td>365.000000</td>\n",
       "      <td>365.000000</td>\n",
       "    </tr>\n",
       "    <tr>\n",
       "      <th>mean</th>\n",
       "      <td>2022-07-01 23:59:59.999999744</td>\n",
       "      <td>4.005479</td>\n",
       "      <td>0.200000</td>\n",
       "      <td>0.142466</td>\n",
       "      <td>2997.219178</td>\n",
       "    </tr>\n",
       "    <tr>\n",
       "      <th>min</th>\n",
       "      <td>2022-01-01 00:00:00</td>\n",
       "      <td>1.000000</td>\n",
       "      <td>0.000000</td>\n",
       "      <td>0.000000</td>\n",
       "      <td>1305.000000</td>\n",
       "    </tr>\n",
       "    <tr>\n",
       "      <th>25%</th>\n",
       "      <td>2022-04-02 00:00:00</td>\n",
       "      <td>2.000000</td>\n",
       "      <td>0.000000</td>\n",
       "      <td>0.000000</td>\n",
       "      <td>2195.000000</td>\n",
       "    </tr>\n",
       "    <tr>\n",
       "      <th>50%</th>\n",
       "      <td>2022-07-02 00:00:00</td>\n",
       "      <td>4.000000</td>\n",
       "      <td>0.000000</td>\n",
       "      <td>0.000000</td>\n",
       "      <td>3074.000000</td>\n",
       "    </tr>\n",
       "    <tr>\n",
       "      <th>75%</th>\n",
       "      <td>2022-10-01 00:00:00</td>\n",
       "      <td>6.000000</td>\n",
       "      <td>0.000000</td>\n",
       "      <td>0.000000</td>\n",
       "      <td>3979.000000</td>\n",
       "    </tr>\n",
       "    <tr>\n",
       "      <th>max</th>\n",
       "      <td>2022-12-31 00:00:00</td>\n",
       "      <td>7.000000</td>\n",
       "      <td>1.000000</td>\n",
       "      <td>1.000000</td>\n",
       "      <td>4404.000000</td>\n",
       "    </tr>\n",
       "    <tr>\n",
       "      <th>std</th>\n",
       "      <td>NaN</td>\n",
       "      <td>2.002738</td>\n",
       "      <td>0.400549</td>\n",
       "      <td>0.350007</td>\n",
       "      <td>942.096284</td>\n",
       "    </tr>\n",
       "  </tbody>\n",
       "</table>\n",
       "</div>"
      ]
     },
     "execution_count": 130,
     "metadata": {},
     "output_type": "execute_result"
    }
   ],
   "execution_count": 130
  },
  {
   "metadata": {
    "ExecuteTime": {
     "end_time": "2024-12-04T05:47:44.877069Z",
     "start_time": "2024-12-04T05:47:44.872267Z"
    }
   },
   "cell_type": "code",
   "source": "from sklearn.preprocessing import MinMaxScaler",
   "id": "c60ec7b0de88e993",
   "outputs": [],
   "execution_count": 131
  },
  {
   "metadata": {
    "ExecuteTime": {
     "end_time": "2024-12-04T05:47:45.653277Z",
     "start_time": "2024-12-04T05:47:45.647159Z"
    }
   },
   "cell_type": "code",
   "source": [
    "escala = MinMaxScaler(feature_range=(0,1))\n",
    "datos_para_preprocesar = datos.drop([\"Fecha\",\"Ventas\"],axis=1).columns\n",
    "normalizado = escala.fit_transform(datos[datos_para_preprocesar])"
   ],
   "id": "e197db39b6db2789",
   "outputs": [],
   "execution_count": 132
  },
  {
   "metadata": {
    "ExecuteTime": {
     "end_time": "2024-12-04T05:47:46.228155Z",
     "start_time": "2024-12-04T05:47:46.222778Z"
    }
   },
   "cell_type": "code",
   "source": [
    "datos2 = pd.DataFrame(data = normalizado, columns = datos_para_preprocesar)\n",
    "datos2[\"Fecha\"] = datos[\"Fecha\"]\n",
    "datos2[\"Ventas\"] = datos[\"Ventas\"]"
   ],
   "id": "6c467f8428616f5a",
   "outputs": [],
   "execution_count": 133
  },
  {
   "metadata": {
    "ExecuteTime": {
     "end_time": "2024-12-04T05:47:47.095839Z",
     "start_time": "2024-12-04T05:47:47.081496Z"
    }
   },
   "cell_type": "code",
   "source": "datos2",
   "id": "c5a21712228b4bec",
   "outputs": [
    {
     "data": {
      "text/plain": [
       "     DíaDeLaSemana  Promociones  Festivo      Fecha  Ventas\n",
       "0         0.833333          0.0      0.0 2022-01-01    4033\n",
       "1         1.000000          0.0      1.0 2022-01-02    4012\n",
       "2         0.000000          0.0      0.0 2022-01-03    1608\n",
       "3         0.166667          1.0      0.0 2022-01-04    2046\n",
       "4         0.333333          0.0      0.0 2022-01-05    2484\n",
       "..             ...          ...      ...        ...     ...\n",
       "360       0.166667          1.0      0.0 2022-12-27    2189\n",
       "361       0.333333          0.0      0.0 2022-12-28    2548\n",
       "362       0.500000          0.0      0.0 2022-12-29    3018\n",
       "363       0.666667          0.0      0.0 2022-12-30    3591\n",
       "364       0.833333          1.0      0.0 2022-12-31    4351\n",
       "\n",
       "[365 rows x 5 columns]"
      ],
      "text/html": [
       "<div>\n",
       "<style scoped>\n",
       "    .dataframe tbody tr th:only-of-type {\n",
       "        vertical-align: middle;\n",
       "    }\n",
       "\n",
       "    .dataframe tbody tr th {\n",
       "        vertical-align: top;\n",
       "    }\n",
       "\n",
       "    .dataframe thead th {\n",
       "        text-align: right;\n",
       "    }\n",
       "</style>\n",
       "<table border=\"1\" class=\"dataframe\">\n",
       "  <thead>\n",
       "    <tr style=\"text-align: right;\">\n",
       "      <th></th>\n",
       "      <th>DíaDeLaSemana</th>\n",
       "      <th>Promociones</th>\n",
       "      <th>Festivo</th>\n",
       "      <th>Fecha</th>\n",
       "      <th>Ventas</th>\n",
       "    </tr>\n",
       "  </thead>\n",
       "  <tbody>\n",
       "    <tr>\n",
       "      <th>0</th>\n",
       "      <td>0.833333</td>\n",
       "      <td>0.0</td>\n",
       "      <td>0.0</td>\n",
       "      <td>2022-01-01</td>\n",
       "      <td>4033</td>\n",
       "    </tr>\n",
       "    <tr>\n",
       "      <th>1</th>\n",
       "      <td>1.000000</td>\n",
       "      <td>0.0</td>\n",
       "      <td>1.0</td>\n",
       "      <td>2022-01-02</td>\n",
       "      <td>4012</td>\n",
       "    </tr>\n",
       "    <tr>\n",
       "      <th>2</th>\n",
       "      <td>0.000000</td>\n",
       "      <td>0.0</td>\n",
       "      <td>0.0</td>\n",
       "      <td>2022-01-03</td>\n",
       "      <td>1608</td>\n",
       "    </tr>\n",
       "    <tr>\n",
       "      <th>3</th>\n",
       "      <td>0.166667</td>\n",
       "      <td>1.0</td>\n",
       "      <td>0.0</td>\n",
       "      <td>2022-01-04</td>\n",
       "      <td>2046</td>\n",
       "    </tr>\n",
       "    <tr>\n",
       "      <th>4</th>\n",
       "      <td>0.333333</td>\n",
       "      <td>0.0</td>\n",
       "      <td>0.0</td>\n",
       "      <td>2022-01-05</td>\n",
       "      <td>2484</td>\n",
       "    </tr>\n",
       "    <tr>\n",
       "      <th>...</th>\n",
       "      <td>...</td>\n",
       "      <td>...</td>\n",
       "      <td>...</td>\n",
       "      <td>...</td>\n",
       "      <td>...</td>\n",
       "    </tr>\n",
       "    <tr>\n",
       "      <th>360</th>\n",
       "      <td>0.166667</td>\n",
       "      <td>1.0</td>\n",
       "      <td>0.0</td>\n",
       "      <td>2022-12-27</td>\n",
       "      <td>2189</td>\n",
       "    </tr>\n",
       "    <tr>\n",
       "      <th>361</th>\n",
       "      <td>0.333333</td>\n",
       "      <td>0.0</td>\n",
       "      <td>0.0</td>\n",
       "      <td>2022-12-28</td>\n",
       "      <td>2548</td>\n",
       "    </tr>\n",
       "    <tr>\n",
       "      <th>362</th>\n",
       "      <td>0.500000</td>\n",
       "      <td>0.0</td>\n",
       "      <td>0.0</td>\n",
       "      <td>2022-12-29</td>\n",
       "      <td>3018</td>\n",
       "    </tr>\n",
       "    <tr>\n",
       "      <th>363</th>\n",
       "      <td>0.666667</td>\n",
       "      <td>0.0</td>\n",
       "      <td>0.0</td>\n",
       "      <td>2022-12-30</td>\n",
       "      <td>3591</td>\n",
       "    </tr>\n",
       "    <tr>\n",
       "      <th>364</th>\n",
       "      <td>0.833333</td>\n",
       "      <td>1.0</td>\n",
       "      <td>0.0</td>\n",
       "      <td>2022-12-31</td>\n",
       "      <td>4351</td>\n",
       "    </tr>\n",
       "  </tbody>\n",
       "</table>\n",
       "<p>365 rows × 5 columns</p>\n",
       "</div>"
      ]
     },
     "execution_count": 134,
     "metadata": {},
     "output_type": "execute_result"
    }
   ],
   "execution_count": 134
  },
  {
   "metadata": {
    "ExecuteTime": {
     "end_time": "2024-12-04T05:47:47.585340Z",
     "start_time": "2024-12-04T05:47:47.572939Z"
    }
   },
   "cell_type": "code",
   "source": [
    "X = datos2.drop([\"Fecha\",\"Ventas\"],axis=1)\n",
    "y = datos[\"Ventas\"]"
   ],
   "id": "13b9f5a5ff65b27c",
   "outputs": [],
   "execution_count": 135
  },
  {
   "metadata": {
    "ExecuteTime": {
     "end_time": "2024-12-04T05:47:47.949781Z",
     "start_time": "2024-12-04T05:47:47.945368Z"
    }
   },
   "cell_type": "code",
   "source": "from sklearn.model_selection import train_test_split",
   "id": "4751ddce40144e0d",
   "outputs": [],
   "execution_count": 136
  },
  {
   "metadata": {
    "ExecuteTime": {
     "end_time": "2024-12-04T05:47:48.288012Z",
     "start_time": "2024-12-04T05:47:48.280576Z"
    }
   },
   "cell_type": "code",
   "source": "X_train,X_test,y_train,y_test = train_test_split(X,y,train_size=0.7)",
   "id": "252f98197f5ca529",
   "outputs": [],
   "execution_count": 137
  },
  {
   "metadata": {
    "ExecuteTime": {
     "end_time": "2024-12-04T05:54:09.860480Z",
     "start_time": "2024-12-04T05:54:09.857084Z"
    }
   },
   "cell_type": "code",
   "source": [
    "from sklearn.linear_model import LinearRegression\n",
    "from sklearn.tree import DecisionTreeRegressor\n",
    "from sklearn.ensemble import RandomForestRegressor"
   ],
   "id": "848d751bb7a32405",
   "outputs": [],
   "execution_count": 157
  },
  {
   "metadata": {
    "ExecuteTime": {
     "end_time": "2024-12-04T05:54:10.227411Z",
     "start_time": "2024-12-04T05:54:10.223413Z"
    }
   },
   "cell_type": "code",
   "source": [
    "modelos = [(\"modelo_lineal\",LinearRegression()),\n",
    "            (\"modelo_arbol\",DecisionTreeRegressor()),\n",
    "            (\"modelo_random_forest\",RandomForestRegressor())]"
   ],
   "id": "780fe355518fba43",
   "outputs": [],
   "execution_count": 158
  },
  {
   "metadata": {
    "ExecuteTime": {
     "end_time": "2024-12-04T05:54:10.932776Z",
     "start_time": "2024-12-04T05:54:10.814553Z"
    }
   },
   "cell_type": "code",
   "source": [
    "for nombre, modelo in modelos:\n",
    "    modelo.fit(X_train,y_train)\n",
    "    puntaje = modelo.score(X_test,y_test)\n",
    "    print(f\"{nombre}: {puntaje}\")"
   ],
   "id": "9d943eb0895fbf27",
   "outputs": [
    {
     "name": "stdout",
     "output_type": "stream",
     "text": [
      "modelo_lineal: 0.989165639933591\n",
      "modelo_arbol: 0.9893687722589394\n",
      "modelo_random_forest: 0.9893638059155915\n"
     ]
    }
   ],
   "execution_count": 159
  },
  {
   "metadata": {
    "ExecuteTime": {
     "end_time": "2024-12-04T05:59:48.713230Z",
     "start_time": "2024-12-04T05:59:48.706593Z"
    }
   },
   "cell_type": "code",
   "source": [
    "modelo_lineal = LinearRegression()\n",
    "modelo_lineal.fit(X_train,y_train)\n",
    "prueba=modelo_lineal.predict(X_test)"
   ],
   "id": "56c0b559c5682627",
   "outputs": [],
   "execution_count": 165
  },
  {
   "metadata": {
    "ExecuteTime": {
     "end_time": "2024-12-04T05:57:48.321340Z",
     "start_time": "2024-12-04T05:57:47.565816Z"
    }
   },
   "cell_type": "code",
   "source": "import matplotlib.pyplot as plt",
   "id": "b8e7b26b3fbd0391",
   "outputs": [],
   "execution_count": 162
  },
  {
   "metadata": {
    "ExecuteTime": {
     "end_time": "2024-12-04T06:00:44.483764Z",
     "start_time": "2024-12-04T06:00:44.380359Z"
    }
   },
   "cell_type": "code",
   "source": [
    "plt.scatter(y_test,prueba)\n",
    "plt.plot([y_test.min(), y_test.max()], [y_test.min(), y_test.max()])"
   ],
   "id": "e735812685c2cc61",
   "outputs": [
    {
     "data": {
      "text/plain": [
       "[<matplotlib.lines.Line2D at 0x1c65b33d100>]"
      ]
     },
     "execution_count": 168,
     "metadata": {},
     "output_type": "execute_result"
    },
    {
     "data": {
      "text/plain": [
       "<Figure size 640x480 with 1 Axes>"
      ],
      "image/png": "[encoded data removed]"
     },
     "metadata": {},
     "output_type": "display_data"
    }
   ],
   "execution_count": 168
  },
  {
   "metadata": {},
   "cell_type": "code",
   "outputs": [],
   "execution_count": null,
   "source": "",
   "id": "de5eb3bd9713a0e3"
  }
 ],
 "metadata": {
  "kernelspec": {
   "display_name": "Python 3",
   "language": "python",
   "name": "python3"
  },
  "language_info": {
   "codemirror_mode": {
    "name": "ipython",
    "version": 2
   },
   "file_extension": ".py",
   "mimetype": "text/x-python",
   "name": "python",
   "nbconvert_exporter": "python",
   "pygments_lexer": "ipython2",
   "version": "2.7.6"
  }
 },
 "nbformat": 4,
 "nbformat_minor": 5
}
